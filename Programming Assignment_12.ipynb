{
 "cells": [
  {
   "cell_type": "code",
   "execution_count": 12,
   "id": "cca86e89",
   "metadata": {},
   "outputs": [],
   "source": [
    "#1. Extract unique dictionary values\n",
    "def uniqueDict(d):\n",
    "    if type(d)==dict:\n",
    "        s=set()\n",
    "        for i in d.values():\n",
    "            s.add(i)\n",
    "    return s"
   ]
  },
  {
   "cell_type": "code",
   "execution_count": 13,
   "id": "eb0e3a06",
   "metadata": {},
   "outputs": [
    {
     "data": {
      "text/plain": [
       "{707, 'Ayushi', 'kalra'}"
      ]
     },
     "execution_count": 13,
     "metadata": {},
     "output_type": "execute_result"
    }
   ],
   "source": [
    "uniqueDict({\"name\":\"Ayushi\",\"birth date\": 707,\"First name\": \"Ayushi\",\"Last name\": \"kalra\"})"
   ]
  },
  {
   "cell_type": "code",
   "execution_count": 17,
   "id": "25d9f327",
   "metadata": {},
   "outputs": [],
   "source": [
    "#2. Sum of all the items in the dictionary\n",
    "def sumDict(d):\n",
    "    if type(d)==dict:\n",
    "        sum_value_int=0\n",
    "        sum_value_str=\"\"\n",
    "        for i in d.values():\n",
    "            if type(i) == int:\n",
    "                sum_value_int+=i\n",
    "            if type(i) == str:\n",
    "                sum_value_str+=i\n",
    "    return \"int sum :\" + str(sum_value_int) , \"str sum: \" + sum_value_str"
   ]
  },
  {
   "cell_type": "code",
   "execution_count": 18,
   "id": "d90b7572",
   "metadata": {},
   "outputs": [
    {
     "data": {
      "text/plain": [
       "('int sum :734', 'str sum: Ayushikalra')"
      ]
     },
     "execution_count": 18,
     "metadata": {},
     "output_type": "execute_result"
    }
   ],
   "source": [
    "sumDict({\"age\":27,\"birth date\": 707,\"First name\": \"Ayushi\",\"Last name\": \"kalra\"})"
   ]
  },
  {
   "cell_type": "code",
   "execution_count": 31,
   "id": "8cf0745b",
   "metadata": {},
   "outputs": [],
   "source": [
    "#3. Merge two dictionaries:Good\n",
    "def mergeDict(d1,d2):\n",
    "    if type(d1)==dict and type(d2)==dict:        \n",
    "        d={}\n",
    "        for i in d1:\n",
    "            d[i]=d1[i]\n",
    "        for i in d2:\n",
    "            d[i]=d2[i]             \n",
    "        return d"
   ]
  },
  {
   "cell_type": "code",
   "execution_count": 63,
   "id": "5b769d72",
   "metadata": {},
   "outputs": [
    {
     "data": {
      "text/plain": [
       "{'age': 27, 'birth date': 707, 'First name': 'Ayushi', 'Last name': 'kalra'}"
      ]
     },
     "execution_count": 63,
     "metadata": {},
     "output_type": "execute_result"
    }
   ],
   "source": [
    "d1={\"age\":27,\"birth date\": 707}\n",
    "d2={\"First name\": \"Ayushi\",\"Last name\": \"kalra\"}\n",
    "mergeDict(d1,d2)"
   ]
  },
  {
   "cell_type": "code",
   "execution_count": 47,
   "id": "8c7c73b7",
   "metadata": {},
   "outputs": [],
   "source": [
    "#4. Convert key value list to flat dictionary\n",
    "def diction(key_list,value_list):\n",
    "    d={}\n",
    "    for i in range(len(key_list)):\n",
    "        for j in range(len(value_list)):\n",
    "            if i == j:\n",
    "                d[key_list[i]]=value_list[j]\n",
    "    return d"
   ]
  },
  {
   "cell_type": "code",
   "execution_count": 48,
   "id": "00827172",
   "metadata": {},
   "outputs": [
    {
     "data": {
      "text/plain": [
       "{'city': 'Ajmer', 'country': 'India', 'state': 'Rajasthan'}"
      ]
     },
     "execution_count": 48,
     "metadata": {},
     "output_type": "execute_result"
    }
   ],
   "source": [
    "diction([\"city\",\"country\",\"state\"],[\"Ajmer\",\"India\",\"Rajasthan\"])"
   ]
  },
  {
   "cell_type": "markdown",
   "id": "786dda4b",
   "metadata": {},
   "source": [
    "An OrderedDict is a dictionary subclass that remembers the order that keys were first inserted.\n",
    "The only difference between dict() and OrderedDict() is that:\n",
    "OrderedDict preserves the order in which the keys are inserted.\n",
    "A regular dict doesn’t track the insertion order, and iterating it gives the values in an arbitrary order.\n",
    "By contrast, the order the items are inserted is remembered by OrderedDict."
   ]
  },
  {
   "cell_type": "code",
   "execution_count": 32,
   "id": "9565cda7",
   "metadata": {},
   "outputs": [
    {
     "data": {
      "text/plain": [
       "{'name': 'Ayushi',\n",
       " 'language': 'English',\n",
       " 'Programming': 'Python',\n",
       " 'Job': 'Employed',\n",
       " 'Experience': None}"
      ]
     },
     "execution_count": 32,
     "metadata": {},
     "output_type": "execute_result"
    }
   ],
   "source": [
    "#5. insert at the beginning of  ordered dict (Not taught in video lectures)\n",
    "from collections import OrderedDict\n",
    "od=OrderedDict()\n",
    "od={\"language\":\"English\",\"Programming\":\"Python\",\"Job\":\"Employed\"}\n",
    "od.setdefault(\"Experience\")\n",
    "\n",
    "mergeDict({\"name\" :\"Ayushi\"},od) #Passed the key value pair i want to insert into od as d1 ; gets inserted at start\n",
    "    "
   ]
  },
  {
   "cell_type": "code",
   "execution_count": 58,
   "id": "910e6c4a",
   "metadata": {},
   "outputs": [],
   "source": [
    "#6. check order of character of string using OrderedDict()\n",
    "def CheckOrder(input_string,pattern):\n",
    "    #Create a new ordered dictionary with keys from iterable string and value as \"None\"\n",
    "    d = OrderedDict.fromkeys(input_string)\n",
    "    i=0\n",
    "    for key,values in d.items():\n",
    "        if key == pattern[i]:\n",
    "            i+=1\n",
    "        if i==len(pattern):\n",
    "            return \"Order correct\",d\n",
    "    return \"Order incorrect\",d"
   ]
  },
  {
   "cell_type": "code",
   "execution_count": 60,
   "id": "1c9fa96b",
   "metadata": {},
   "outputs": [
    {
     "data": {
      "text/plain": [
       "('Order correct',\n",
       " OrderedDict([('A', None),\n",
       "              ('y', None),\n",
       "              ('u', None),\n",
       "              ('s', None),\n",
       "              ('h', None),\n",
       "              ('i', None)]))"
      ]
     },
     "execution_count": 60,
     "metadata": {},
     "output_type": "execute_result"
    }
   ],
   "source": [
    "CheckOrder(\"Ayushi\",\"Ayushi\")"
   ]
  },
  {
   "cell_type": "code",
   "execution_count": 61,
   "id": "a0490573",
   "metadata": {},
   "outputs": [],
   "source": [
    "#7. Sort Python dictionary by key or value\n",
    "def sortDict(d):\n",
    "    from collections import OrderedDict\n",
    "    od=OrderedDict(sorted(d.items()))\n",
    "    return od"
   ]
  },
  {
   "cell_type": "code",
   "execution_count": 62,
   "id": "03c1676a",
   "metadata": {},
   "outputs": [
    {
     "data": {
      "text/plain": [
       "OrderedDict([(105, 'Vidya'),\n",
       "             (113, 'Vineeta'),\n",
       "             (114, 'Aman'),\n",
       "             (121, 'Tarun'),\n",
       "             (130, 'Ayushi')])"
      ]
     },
     "execution_count": 62,
     "metadata": {},
     "output_type": "execute_result"
    }
   ],
   "source": [
    "sortDict({130:\"Ayushi\",121:\"Tarun\",113:\"Vineeta\",114:\"Aman\",105:\"Vidya\"})"
   ]
  },
  {
   "cell_type": "code",
   "execution_count": 60,
   "id": "d347de1b",
   "metadata": {},
   "outputs": [
    {
     "name": "stdout",
     "output_type": "stream",
     "text": [
      "Job : Employed\n",
      "Language : English\n",
      "Programming : Python\n"
     ]
    }
   ],
   "source": [
    "#7a.  other way \n",
    "my_dict={\"Language\":\"English\",\"Programming\":\"Python\",\"Job\":\"Employed\"}\n",
    "for key in sorted(my_dict):\n",
    "    print(key,\":\",my_dict[key])"
   ]
  },
  {
   "cell_type": "code",
   "execution_count": null,
   "id": "f1df9979",
   "metadata": {},
   "outputs": [],
   "source": []
  }
 ],
 "metadata": {
  "kernelspec": {
   "display_name": "Python 3 (ipykernel)",
   "language": "python",
   "name": "python3"
  },
  "language_info": {
   "codemirror_mode": {
    "name": "ipython",
    "version": 3
   },
   "file_extension": ".py",
   "mimetype": "text/x-python",
   "name": "python",
   "nbconvert_exporter": "python",
   "pygments_lexer": "ipython3",
   "version": "3.9.7"
  }
 },
 "nbformat": 4,
 "nbformat_minor": 5
}
