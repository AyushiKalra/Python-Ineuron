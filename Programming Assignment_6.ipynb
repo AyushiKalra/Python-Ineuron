{
 "cells": [
  {
   "cell_type": "code",
   "execution_count": 7,
   "id": "d5f859d6",
   "metadata": {},
   "outputs": [
    {
     "name": "stdout",
     "output_type": "stream",
     "text": [
      "Enter a number till u need cube sum of natural numbers :8\n",
      "Cube Sum of all natural numbers is : 1296.0\n"
     ]
    }
   ],
   "source": [
    "#Cube sum of first n natural numbers\n",
    "n=int(input(\"Enter a number till u need cube sum of natural numbers :\"))\n",
    "sum=0\n",
    "for i in range(1,n):\n",
    "    sum= ((n*(n+1))/2)**2\n",
    "print(\"Cube Sum of all natural numbers is :\", sum)"
   ]
  },
  {
   "cell_type": "code",
   "execution_count": 11,
   "id": "da2d586c",
   "metadata": {},
   "outputs": [],
   "source": [
    "#Recursion is a common mathematical and programming concept. It means that a function calls itself.\n",
    "#This has the benefit of meaning that you can loop through data to reach a result.\n",
    "def Factorial(n):\n",
    "    if n ==1 :\n",
    "        return n\n",
    "    else:\n",
    "        return n*Factorial(n-1)"
   ]
  },
  {
   "cell_type": "code",
   "execution_count": 12,
   "id": "da057ff5",
   "metadata": {},
   "outputs": [
    {
     "data": {
      "text/plain": [
       "120"
      ]
     },
     "execution_count": 12,
     "metadata": {},
     "output_type": "execute_result"
    }
   ],
   "source": [
    "Factorial(5)"
   ]
  },
  {
   "cell_type": "code",
   "execution_count": 5,
   "id": "30dfe3dd",
   "metadata": {},
   "outputs": [],
   "source": [
    "#Recursive Fibonacci\n",
    "def Fibo(n):\n",
    "    if n<=1:\n",
    "        return n\n",
    "    else:\n",
    "        return (Fibo(n-1) + Fibo(n-2))"
   ]
  },
  {
   "cell_type": "code",
   "execution_count": 6,
   "id": "c3e49e08",
   "metadata": {},
   "outputs": [
    {
     "name": "stdout",
     "output_type": "stream",
     "text": [
      "Enter how many number of terms you want :8\n",
      "0\n",
      "1\n",
      "1\n",
      "2\n",
      "3\n",
      "5\n",
      "8\n",
      "13\n"
     ]
    }
   ],
   "source": [
    "n=int(input(\"Enter how many number of Fibonacci series you want :\"))\n",
    "if n<=0:\n",
    "    print(\"Please enter a positive number\")\n",
    "else:\n",
    "    for i in range(n):\n",
    "        print(Fibo(i))"
   ]
  },
  {
   "cell_type": "code",
   "execution_count": 1,
   "id": "a78e36d5",
   "metadata": {},
   "outputs": [],
   "source": [
    "#BMI\n",
    "def BMI (weight, height):\n",
    "    return weight/(height)**2"
   ]
  },
  {
   "cell_type": "code",
   "execution_count": 2,
   "id": "79c7bd16",
   "metadata": {},
   "outputs": [
    {
     "data": {
      "text/plain": [
       "0.0019817677368212444"
      ]
     },
     "execution_count": 2,
     "metadata": {},
     "output_type": "execute_result"
    }
   ],
   "source": [
    "BMI(60,174)"
   ]
  },
  {
   "cell_type": "code",
   "execution_count": 7,
   "id": "47a1f5e6",
   "metadata": {},
   "outputs": [],
   "source": [
    "#Log\n",
    "\n",
    "def CalculateLog(n):\n",
    "    import math\n",
    "    return math.log(n)"
   ]
  },
  {
   "cell_type": "code",
   "execution_count": 9,
   "id": "6f73d6c0",
   "metadata": {},
   "outputs": [
    {
     "name": "stdout",
     "output_type": "stream",
     "text": [
      "Enter any natural number: 14\n"
     ]
    },
    {
     "data": {
      "text/plain": [
       "2.6390573296152584"
      ]
     },
     "execution_count": 9,
     "metadata": {},
     "output_type": "execute_result"
    }
   ],
   "source": [
    "num=int(input(\"Enter any natural number: \"))\n",
    "CalculateLog(num)"
   ]
  },
  {
   "cell_type": "code",
   "execution_count": null,
   "id": "91bfd012",
   "metadata": {},
   "outputs": [],
   "source": []
  }
 ],
 "metadata": {
  "kernelspec": {
   "display_name": "Python 3 (ipykernel)",
   "language": "python",
   "name": "python3"
  },
  "language_info": {
   "codemirror_mode": {
    "name": "ipython",
    "version": 3
   },
   "file_extension": ".py",
   "mimetype": "text/x-python",
   "name": "python",
   "nbconvert_exporter": "python",
   "pygments_lexer": "ipython3",
   "version": "3.9.7"
  }
 },
 "nbformat": 4,
 "nbformat_minor": 5
}
