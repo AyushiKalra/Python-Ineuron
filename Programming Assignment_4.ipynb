{
 "cells": [
  {
   "cell_type": "code",
   "execution_count": null,
   "id": "0b7ef6b0",
   "metadata": {},
   "outputs": [],
   "source": [
    "#Factorial\n",
    "num=int(input(\"Enter a number: \"))\n",
    "Factorial=1\n",
    "for i in range(num,1,-1):   \n",
    "    Factorial=Factorial*i\n",
    "    \n",
    "print(\"Factorial is\",Factorial)"
   ]
  },
  {
   "cell_type": "code",
   "execution_count": null,
   "id": "595cbf13",
   "metadata": {},
   "outputs": [],
   "source": [
    "#Multiplication table\n",
    "num=int(input(\"Enter a number to generate the multiplication table: \"))\n",
    "for i in range(1,11):\n",
    "    mul=num*i\n",
    "    print(\"{}*{}={}\".format(num,i,mul))"
   ]
  },
  {
   "cell_type": "code",
   "execution_count": 1,
   "id": "052d903f",
   "metadata": {},
   "outputs": [
    {
     "name": "stdout",
     "output_type": "stream",
     "text": [
      "Enter the length of the Fibonacci list:- 8\n",
      "[1, 1, 2, 3, 5, 8, 13, 21]\n"
     ]
    }
   ],
   "source": [
    "#Fibonacci\n",
    "num=int(input(\"Enter the length of the Fibonacci list:- \"))\n",
    "l=[]\n",
    "l.append(1)\n",
    "l.append(1)\n",
    "for i in range (2,num):\n",
    "    l.append(l[i-1]+l[i-2]);\n",
    "print(l)"
   ]
  },
  {
   "cell_type": "code",
   "execution_count": 7,
   "id": "04496ec0",
   "metadata": {},
   "outputs": [
    {
     "name": "stdout",
     "output_type": "stream",
     "text": [
      "Enter the 3-digit number :153\n",
      "Armstrong number\n"
     ]
    }
   ],
   "source": [
    "#Armstrong :A number is thought of as an Armstrong number if the sum of its own digits raised to the power number of digits gives the number itself.\n",
    "#3-digit\n",
    "n=int(input(\"Enter the 3-digit number :\"))\n",
    "temp=n\n",
    "sum=0\n",
    "while temp>0:\n",
    "    digit=temp%10 #Get the last digit \n",
    "    sum += digit**3 #Cube\n",
    "    temp=temp//10 #Truncation divison or floor divison; results only integral part of division , truncates the fraction.\n",
    "    #this keeps on removing the last digit (since we calculated its cube above)\n",
    "if n == sum:\n",
    "    print(\"Armstrong number\")\n",
    "else:\n",
    "    print(\"Not an Armstrong number\")"
   ]
  },
  {
   "cell_type": "code",
   "execution_count": 19,
   "id": "5e2b7926",
   "metadata": {},
   "outputs": [
    {
     "name": "stdout",
     "output_type": "stream",
     "text": [
      "Enter the n-digit number :1634\n",
      "Armstrong number\n"
     ]
    }
   ],
   "source": [
    "#Armstrong number for n digit integer\n",
    "n=int(input(\"Enter the n-digit number :\"))\n",
    "order=len(str(n))\n",
    "temp=n\n",
    "sum=0\n",
    "while temp>0:\n",
    "    digit=temp%10 #Get the last digit \n",
    "    sum += digit**order #Cube\n",
    "    temp=temp//10 #Truncation divison or floor divison\n",
    "if n == sum:\n",
    "    print(\"Armstrong number\")\n",
    "else:\n",
    "    print(\"Not an Armstrong number\")"
   ]
  },
  {
   "cell_type": "code",
   "execution_count": 17,
   "id": "ebf7d10e",
   "metadata": {},
   "outputs": [
    {
     "name": "stdout",
     "output_type": "stream",
     "text": [
      "Enter lower range :100\n",
      "Enter higher range :200\n",
      "Armstrong number :  125\n",
      "Armstrong number :  153\n"
     ]
    }
   ],
   "source": [
    "#Armstrong number in interval \n",
    "lower_range=int(input(\"Enter lower range :\"))\n",
    "higher_range=int(input(\"Enter higher range :\"))\n",
    "\n",
    "for n in range(lower_range,higher_range+1):\n",
    "    temp=n\n",
    "    sum=0\n",
    "    while temp>0:\n",
    "        digit=temp%10 #Get the last digit \n",
    "        sum += digit**3 #power\n",
    "        temp=temp//10 #Truncation divison or floor divison; \n",
    "        if n == sum:\n",
    "            print(\"Armstrong number : \",n)"
   ]
  },
  {
   "cell_type": "code",
   "execution_count": 13,
   "id": "9fbcdc10",
   "metadata": {},
   "outputs": [
    {
     "name": "stdout",
     "output_type": "stream",
     "text": [
      "Enter a number till u need sum of natural numbers :90\n",
      "Sum of all natural numbers is : 4095\n"
     ]
    }
   ],
   "source": [
    "#Sum of n natural numbers\n",
    "n=int(input(\"Enter a number till u need sum of natural numbers :\"))\n",
    "sum=0\n",
    "for i in range(1,n+1):\n",
    "    sum+=i\n",
    "print(\"Sum of all natural numbers is :\", sum)"
   ]
  },
  {
   "cell_type": "code",
   "execution_count": null,
   "id": "8cd907bf",
   "metadata": {},
   "outputs": [],
   "source": []
  },
  {
   "cell_type": "code",
   "execution_count": null,
   "id": "c3ab9485",
   "metadata": {},
   "outputs": [],
   "source": []
  },
  {
   "cell_type": "code",
   "execution_count": null,
   "id": "c53bfe61",
   "metadata": {},
   "outputs": [],
   "source": []
  },
  {
   "cell_type": "code",
   "execution_count": null,
   "id": "4faa19ad",
   "metadata": {},
   "outputs": [],
   "source": []
  }
 ],
 "metadata": {
  "kernelspec": {
   "display_name": "Python 3 (ipykernel)",
   "language": "python",
   "name": "python3"
  },
  "language_info": {
   "codemirror_mode": {
    "name": "ipython",
    "version": 3
   },
   "file_extension": ".py",
   "mimetype": "text/x-python",
   "name": "python",
   "nbconvert_exporter": "python",
   "pygments_lexer": "ipython3",
   "version": "3.9.7"
  }
 },
 "nbformat": 4,
 "nbformat_minor": 5
}
