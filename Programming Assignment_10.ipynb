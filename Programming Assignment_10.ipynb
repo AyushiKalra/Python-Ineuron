{
 "cells": [
  {
   "cell_type": "code",
   "execution_count": 5,
   "id": "bae68a5d",
   "metadata": {},
   "outputs": [
    {
     "name": "stdout",
     "output_type": "stream",
     "text": [
      "Enter numbers of the list :7\n",
      "Enter numbers of the list :8\n",
      "Enter numbers of the list :90\n",
      "Enter numbers of the list :8\n",
      "Enter numbers of the list :99\n",
      "Sum of the elements of the list 212\n"
     ]
    }
   ],
   "source": [
    "#Sum of all the elements in a list. Input list from user\n",
    "l=[]\n",
    "for i in range(5):\n",
    "    num=int(input(\"Enter numbers of the list :\"))\n",
    "    l.append(num)\n",
    "\n",
    "sum=0\n",
    "for i in l:\n",
    "    if type(i) == int:\n",
    "        sum=sum + i\n",
    "    else:\n",
    "        print(\"Enter integer datatype of element\")\n",
    "print(\"Sum of the elements of the list\", sum)"
   ]
  },
  {
   "cell_type": "code",
   "execution_count": 8,
   "id": "7a4bda2a",
   "metadata": {},
   "outputs": [
    {
     "name": "stdout",
     "output_type": "stream",
     "text": [
      "Multiplication of the elements of the list 2160\n"
     ]
    }
   ],
   "source": [
    "#Multiplication\n",
    "l=[3,5,6,1,4,6]\n",
    "mul=1\n",
    "for i in l:\n",
    "    if type(i) == int:\n",
    "        mul=mul * i\n",
    "    else:\n",
    "        print(\"Enter integer datatype of element\")\n",
    "print(\"Multiplication of the elements of the list\", mul)"
   ]
  },
  {
   "cell_type": "code",
   "execution_count": 43,
   "id": "d5bd35f3",
   "metadata": {},
   "outputs": [
    {
     "name": "stdout",
     "output_type": "stream",
     "text": [
      "Largest number in list l is 7888\n"
     ]
    }
   ],
   "source": [
    "#Largest number in a list\n",
    "l=[45,78,13,566,899,34,5,6,223,7888]\n",
    "print(\"Largest number in list l is\",max(l))"
   ]
  },
  {
   "cell_type": "code",
   "execution_count": 42,
   "id": "94eba204",
   "metadata": {},
   "outputs": [
    {
     "name": "stdout",
     "output_type": "stream",
     "text": [
      "Smallest number in list l is 5\n"
     ]
    }
   ],
   "source": [
    "#smallest number in a list\n",
    "print(\"Smallest number in list l is\",min(l))"
   ]
  },
  {
   "cell_type": "code",
   "execution_count": 20,
   "id": "74256439",
   "metadata": {},
   "outputs": [
    {
     "name": "stdout",
     "output_type": "stream",
     "text": [
      "Even 78\n",
      "Even 56\n"
     ]
    }
   ],
   "source": [
    "#Print Even\n",
    "l=[3,5,78,1,3,56,7]\n",
    "for i in l:\n",
    "    if i%2 == 0:\n",
    "        print(\"Even\",i)"
   ]
  },
  {
   "cell_type": "code",
   "execution_count": 21,
   "id": "cfa3d076",
   "metadata": {},
   "outputs": [
    {
     "name": "stdout",
     "output_type": "stream",
     "text": [
      "Odd 3\n",
      "Odd 5\n",
      "Odd 1\n",
      "Odd 3\n",
      "Odd 7\n"
     ]
    }
   ],
   "source": [
    "#Print Odd \n",
    "l=[3,5,78,1,3,56,7]\n",
    "for i in l:\n",
    "    if i%2 != 0:\n",
    "        print(\"Odd\",i)"
   ]
  },
  {
   "cell_type": "code",
   "execution_count": 19,
   "id": "0e2ed919",
   "metadata": {},
   "outputs": [
    {
     "name": "stdout",
     "output_type": "stream",
     "text": [
      "After removing empty list element in list l : [34, 56, 'ayushi', (9, 0, 'kalra', True), ['hexadecimal', 23, 451, False], 'password.com', 90.09]\n"
     ]
    }
   ],
   "source": [
    "#Remove empty list from list\n",
    "l=[34,56,\"ayushi\",(9,0,\"kalra\",True),[],[\"hexadecimal\",23,451,False],\"password.com\",90.09]\n",
    "for i in l:\n",
    "    if type(i)==list:\n",
    "        if len(i) == 0:\n",
    "            l.remove(i)\n",
    "print(\"After removing empty list element in list l :\",l)"
   ]
  },
  {
   "cell_type": "code",
   "execution_count": 24,
   "id": "b9ea0754",
   "metadata": {},
   "outputs": [
    {
     "name": "stdout",
     "output_type": "stream",
     "text": [
      "Count of 5:  3\n",
      "Count of ayu:  2\n"
     ]
    }
   ],
   "source": [
    "#count occurences of an element in a list\n",
    "l=[3,5,78,1,\"ayu\",5,3,56,7,5,\"ayu\"]\n",
    "print(\"Count of 5: \",l.count(5))\n",
    "print(\"Count of ayu: \",l.count(\"ayu\"))"
   ]
  },
  {
   "cell_type": "code",
   "execution_count": 28,
   "id": "4932da66",
   "metadata": {},
   "outputs": [
    {
     "name": "stdout",
     "output_type": "stream",
     "text": [
      "1st copy of list l is : [1, 1, 2, 1, 4, 5, 6]\n",
      "2nd copy of list l is : [1, 1, 2, 1, 4, 5, 6]\n"
     ]
    }
   ],
   "source": [
    "#Clone a list\n",
    "l=[1,1,2,1,4,5,6]\n",
    "l1=l\n",
    "print(\"1st copy of list l is :\", l1)\n",
    "\n",
    "l2=l.copy()\n",
    "print(\"2nd copy of list l is :\", l2)"
   ]
  },
  {
   "cell_type": "code",
   "execution_count": 38,
   "id": "aad21cab",
   "metadata": {},
   "outputs": [
    {
     "name": "stdout",
     "output_type": "stream",
     "text": [
      "Second largest number in list l is : 501\n"
     ]
    }
   ],
   "source": [
    "#Second largest element in the list\n",
    "l=[1,1,231,101,301,401,501,601,2,215,400.10,301,4,5,6,11]\n",
    "l.sort()\n",
    "print(\"Second largest number in list l is :\" , l[-2])"
   ]
  },
  {
   "cell_type": "code",
   "execution_count": 47,
   "id": "c55ee377",
   "metadata": {},
   "outputs": [
    {
     "name": "stdout",
     "output_type": "stream",
     "text": [
      "Enter the largest number you want to retrieve from the list l :5\n",
      "5 th largest number in list l is : 302\n"
     ]
    }
   ],
   "source": [
    "#N largest element in the list\n",
    "n=int(input(\"Enter the largest number you want to retrieve from the list l :\"))\n",
    "l=[1,1,231,101,301,401,501,601,2,215,400.10,302,4,5,6,11]\n",
    "l.sort()\n",
    "print(\"{} th largest number in list l is : {}\".format(n,l[-n]))"
   ]
  },
  {
   "cell_type": "code",
   "execution_count": null,
   "id": "34af30e9",
   "metadata": {},
   "outputs": [],
   "source": []
  }
 ],
 "metadata": {
  "kernelspec": {
   "display_name": "Python 3 (ipykernel)",
   "language": "python",
   "name": "python3"
  },
  "language_info": {
   "codemirror_mode": {
    "name": "ipython",
    "version": 3
   },
   "file_extension": ".py",
   "mimetype": "text/x-python",
   "name": "python",
   "nbconvert_exporter": "python",
   "pygments_lexer": "ipython3",
   "version": "3.9.7"
  }
 },
 "nbformat": 4,
 "nbformat_minor": 5
}
