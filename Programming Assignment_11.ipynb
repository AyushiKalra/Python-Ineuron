{
 "cells": [
  {
   "cell_type": "code",
   "execution_count": 51,
   "id": "31e723a9",
   "metadata": {},
   "outputs": [
    {
     "name": "stdout",
     "output_type": "stream",
     "text": [
      "Enter the length of word: 7\n",
      "Words greater than k length in string s are :  ['centuries,', 'devotional', 'language.', 'century,', 'swift-horse', 'ethnicity', 'religion,', 'repeatedly', 'north-western', 'eventually', 'establishment', 'Sultanate']\n"
     ]
    }
   ],
   "source": [
    "#1. words greater than a given length\n",
    "s=\"In the 6th and 7th centuries, the first devotional hymns were created in the Tamil language. After the 10th century, Muslim Central Asian nomadic clans, using swift-horse cavalry and raising vast armies united by ethnicity and religion, repeatedly overran South Asia's north-western plains, leading eventually to the establishment of the Islamic Delhi Sultanate in 1206.\"\n",
    "k=int(input(\"Enter the length of word: \"))\n",
    "l=s.split()\n",
    "l1=[]\n",
    "for i in l:\n",
    "    if len(i) > k:\n",
    "        l1.append(i)\n",
    "print(\"Words greater than k length in string s are : \",l1)"
   ]
  },
  {
   "cell_type": "code",
   "execution_count": 12,
   "id": "980b7a34",
   "metadata": {},
   "outputs": [
    {
     "name": "stdout",
     "output_type": "stream",
     "text": [
      "String after removal of three occurences of 'o' :  A tw-year perid f political turmoil followed the general election of 1996.\n"
     ]
    }
   ],
   "source": [
    "#2 program to remove ith character from string\n",
    "s=\"A two-year period of political turmoil followed the general election of 1996.\"\n",
    "new_s=s.replace('o',\"\",3)\n",
    "print(\"String after removal of three occurences of 'o' : \",new_s)"
   ]
  },
  {
   "cell_type": "code",
   "execution_count": 19,
   "id": "5d0fb55a",
   "metadata": {},
   "outputs": [
    {
     "name": "stdout",
     "output_type": "stream",
     "text": [
      "Join :-  *A two-year period of political turmoil.*A two-year period of political turmoil.*A two-year period of political turmoil.*A two-year period of political turmoil.*\n",
      "Split:- ['A', 'two-year', 'period', 'of', 'political', 'turmoil.']\n"
     ]
    }
   ],
   "source": [
    "#3 split and join function\n",
    "s1=\"A two-year period of political turmoil.\"\n",
    "s2 =\"*****\"\n",
    "print(\"Join :- \",s1.join(s2))\n",
    "print(\"Split:-\", s1.split())"
   ]
  },
  {
   "cell_type": "code",
   "execution_count": 47,
   "id": "954f2d42",
   "metadata": {},
   "outputs": [
    {
     "name": "stdout",
     "output_type": "stream",
     "text": [
      "String is not binary\n"
     ]
    }
   ],
   "source": [
    "#4 identify binary string\n",
    "s=\"10100001\"\n",
    "s1=set(s)\n",
    "if s1 == {'0','1'} or s1== {'0'} or s1=={'1'}:\n",
    "    print(\"String is binary\")\n",
    "else:\n",
    "    print(\"String is not binary\")"
   ]
  },
  {
   "cell_type": "code",
   "execution_count": 48,
   "id": "d315fbb6",
   "metadata": {},
   "outputs": [],
   "source": [
    "#5 program to find uncommon words from two strings\n",
    "def uncommonWord(s1,s2):\n",
    "    l1=s1.split()\n",
    "    l2=s2.split()\n",
    "    uc=\"\"\n",
    "    for i in l1:\n",
    "        if i not in l2:\n",
    "            uc=uc + \",\" +i\n",
    "    for i in l2:\n",
    "        if i not in l1:\n",
    "            uc=uc + \",\" +i\n",
    "    return uc"
   ]
  },
  {
   "cell_type": "code",
   "execution_count": 50,
   "id": "69243362",
   "metadata": {},
   "outputs": [
    {
     "data": {
      "text/plain": [
       "',two-year,turmoil,three-year,turbulence'"
      ]
     },
     "execution_count": 50,
     "metadata": {},
     "output_type": "execute_result"
    }
   ],
   "source": [
    "s1=\"A two-year period of political turmoil\"\n",
    "s2=\"A three-year period of political turbulence\"\n",
    "uncommonWord(s1,s2)\n"
   ]
  },
  {
   "cell_type": "code",
   "execution_count": 35,
   "id": "da44e8d2",
   "metadata": {},
   "outputs": [],
   "source": [
    "#6. Get duplicate character in a string\n",
    "def duplicateChar(s):\n",
    "    s=s.replace(\" \",\"\")\n",
    "    duplicate=[]\n",
    "    for c in s:\n",
    "        if s.count(c) > 1:\n",
    "            if c not in duplicate:\n",
    "                duplicate.append(c)\n",
    "    return duplicate"
   ]
  },
  {
   "cell_type": "code",
   "execution_count": 36,
   "id": "95aaa88f",
   "metadata": {},
   "outputs": [
    {
     "data": {
      "text/plain": [
       "['t', 'r', 'e', 'a', 'p', 'i', 'o', 'l', 'c', 'u']"
      ]
     },
     "execution_count": 36,
     "metadata": {},
     "output_type": "execute_result"
    }
   ],
   "source": [
    "duplicateChar(\"A three-year period of political turbulence\")"
   ]
  },
  {
   "cell_type": "code",
   "execution_count": 42,
   "id": "8ea7602d",
   "metadata": {},
   "outputs": [
    {
     "name": "stdout",
     "output_type": "stream",
     "text": [
      "special character present in string:  -\n",
      "special character present in string:  #\n",
      "special character present in string:  $\n"
     ]
    }
   ],
   "source": [
    "#7. check special character\n",
    "s=\"A three-year period# of political $turbulence\"\n",
    "for c in s:\n",
    "    if 65<= ord(c) <=90 :\n",
    "        pass\n",
    "    elif 97<=ord(c)<=122:\n",
    "        pass\n",
    "    elif ord(c) == 32:\n",
    "        pass\n",
    "    else:\n",
    "        print(\"special character present in string: \",c)"
   ]
  },
  {
   "cell_type": "code",
   "execution_count": null,
   "id": "3904f19b",
   "metadata": {},
   "outputs": [],
   "source": []
  }
 ],
 "metadata": {
  "kernelspec": {
   "display_name": "Python 3 (ipykernel)",
   "language": "python",
   "name": "python3"
  },
  "language_info": {
   "codemirror_mode": {
    "name": "ipython",
    "version": 3
   },
   "file_extension": ".py",
   "mimetype": "text/x-python",
   "name": "python",
   "nbconvert_exporter": "python",
   "pygments_lexer": "ipython3",
   "version": "3.9.7"
  }
 },
 "nbformat": 4,
 "nbformat_minor": 5
}
