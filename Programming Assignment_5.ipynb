{
 "cells": [
  {
   "cell_type": "code",
   "execution_count": 7,
   "id": "bb1f41f6",
   "metadata": {},
   "outputs": [
    {
     "name": "stdout",
     "output_type": "stream",
     "text": [
      "Enter number 1: 45\n",
      "Enter number 2: 56\n",
      "HCF is:  1\n"
     ]
    }
   ],
   "source": [
    "#HCF\n",
    "num1=int(input(\"Enter number 1: \"))\n",
    "num2=int(input(\"Enter number 2: \"))\n",
    "\n",
    "HCF=1\n",
    "for i in range(2,num1 +1):\n",
    "    if num1%i == 0 and num2%i == 0:\n",
    "        HCF = i\n",
    "print(\"HCF is: \",HCF)"
   ]
  },
  {
   "cell_type": "code",
   "execution_count": 13,
   "id": "1064d90e",
   "metadata": {},
   "outputs": [
    {
     "name": "stdout",
     "output_type": "stream",
     "text": [
      "LCM is:  2520.0\n"
     ]
    }
   ],
   "source": [
    "#LCM\n",
    "LCM=(num1*num2)/HCF\n",
    "print(\"LCM is: \", LCM)"
   ]
  },
  {
   "cell_type": "code",
   "execution_count": 14,
   "id": "5cfc065f",
   "metadata": {},
   "outputs": [
    {
     "name": "stdout",
     "output_type": "stream",
     "text": [
      "Enter a charactery\n",
      "The ASCII value of  y is : 121\n"
     ]
    }
   ],
   "source": [
    "#Find ASCII value of a character: use ord() function to convert a character to an integer (ASCII value). \n",
    "#This function returns the Unicode code point of that character.\n",
    "c=input(\"Enter a character\")\n",
    "print(\"The ASCII value of \",c, \"is :\" ,ord(c))"
   ]
  },
  {
   "cell_type": "code",
   "execution_count": 15,
   "id": "dee6da10",
   "metadata": {},
   "outputs": [
    {
     "name": "stdout",
     "output_type": "stream",
     "text": [
      "Enter a ASCII value89\n",
      "The character value of  89 is : Y\n"
     ]
    }
   ],
   "source": [
    "#Find the character using ASCII value : use chr() function \n",
    "c=int(input(\"Enter a ASCII value\"))\n",
    "print(\"The character value of \",c, \"is :\" ,chr(c))"
   ]
  },
  {
   "cell_type": "code",
   "execution_count": 27,
   "id": "7721839f",
   "metadata": {},
   "outputs": [],
   "source": [
    "#Calculator Function\n",
    "def Calculator(a,b):\n",
    "    return \"Sum:\"+ str(a+b), \"Multiply:\"+ str(a*b),\"division:\"+str(a/b), \"Sub:\"+ str(a-b)"
   ]
  },
  {
   "cell_type": "code",
   "execution_count": 28,
   "id": "904d1fc8",
   "metadata": {},
   "outputs": [
    {
     "data": {
      "text/plain": [
       "('Sum:30', 'Multiply:200', 'division:0.5', 'Sub:-10')"
      ]
     },
     "execution_count": 28,
     "metadata": {},
     "output_type": "execute_result"
    }
   ],
   "source": [
    "Calculator(10,20)"
   ]
  },
  {
   "cell_type": "code",
   "execution_count": 31,
   "id": "ef3a174b",
   "metadata": {},
   "outputs": [],
   "source": [
    "#Decimal to binary\n",
    "def DecimalToBinary(n):\n",
    "    return bin(n).replace(\"0b\",\"\")"
   ]
  },
  {
   "cell_type": "code",
   "execution_count": 32,
   "id": "75c63d49",
   "metadata": {},
   "outputs": [
    {
     "data": {
      "text/plain": [
       "'1011010'"
      ]
     },
     "execution_count": 32,
     "metadata": {},
     "output_type": "execute_result"
    }
   ],
   "source": [
    "DecimalToBinary(90)"
   ]
  },
  {
   "cell_type": "code",
   "execution_count": 36,
   "id": "91164e2d",
   "metadata": {},
   "outputs": [],
   "source": [
    "#Decimal to octal\n",
    "def DecimalToOctal(n):\n",
    "    return oct(n).replace(\"0o\",\"\")"
   ]
  },
  {
   "cell_type": "code",
   "execution_count": 37,
   "id": "f8283539",
   "metadata": {},
   "outputs": [
    {
     "data": {
      "text/plain": [
       "'120'"
      ]
     },
     "execution_count": 37,
     "metadata": {},
     "output_type": "execute_result"
    }
   ],
   "source": [
    "DecimalToOctal(80)"
   ]
  },
  {
   "cell_type": "code",
   "execution_count": 41,
   "id": "ae09d854",
   "metadata": {},
   "outputs": [],
   "source": [
    "#Decimal to octal\n",
    "def DecimalToHex(n):\n",
    "    return hex(n).replace(\"0x\",\"\")"
   ]
  },
  {
   "cell_type": "code",
   "execution_count": 42,
   "id": "1063cc5c",
   "metadata": {},
   "outputs": [
    {
     "data": {
      "text/plain": [
       "'320'"
      ]
     },
     "execution_count": 42,
     "metadata": {},
     "output_type": "execute_result"
    }
   ],
   "source": [
    "DecimalToHex(800)"
   ]
  },
  {
   "cell_type": "code",
   "execution_count": null,
   "id": "1b6c2e93",
   "metadata": {},
   "outputs": [],
   "source": []
  }
 ],
 "metadata": {
  "kernelspec": {
   "display_name": "Python 3 (ipykernel)",
   "language": "python",
   "name": "python3"
  },
  "language_info": {
   "codemirror_mode": {
    "name": "ipython",
    "version": 3
   },
   "file_extension": ".py",
   "mimetype": "text/x-python",
   "name": "python",
   "nbconvert_exporter": "python",
   "pygments_lexer": "ipython3",
   "version": "3.9.7"
  }
 },
 "nbformat": 4,
 "nbformat_minor": 5
}
