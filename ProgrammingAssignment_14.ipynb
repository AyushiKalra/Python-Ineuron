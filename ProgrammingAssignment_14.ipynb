{
 "cells": [
  {
   "cell_type": "code",
   "execution_count": 21,
   "id": "1c51ff38",
   "metadata": {},
   "outputs": [],
   "source": [
    "#1. Generator function that gives iterates the numbers divisible by 7\n",
    "class divisiblity:\n",
    "    def __init__(self,n):\n",
    "        self.n=n\n",
    "    def checkDivisiblity(self):\n",
    "        for i in range(0,self.n):\n",
    "            if i%7 == 0:\n",
    "                yield(i)\n",
    "                \n",
    "        "
   ]
  },
  {
   "cell_type": "code",
   "execution_count": 23,
   "id": "37b762c0",
   "metadata": {},
   "outputs": [
    {
     "name": "stdout",
     "output_type": "stream",
     "text": [
      "Enter a higher range upto which you want numbers divisible by 7:125\n",
      "0\n",
      "7\n",
      "14\n",
      "21\n",
      "28\n",
      "35\n",
      "42\n",
      "49\n",
      "56\n",
      "63\n",
      "70\n",
      "77\n",
      "84\n",
      "91\n",
      "98\n",
      "105\n",
      "112\n",
      "119\n"
     ]
    }
   ],
   "source": [
    "n= int(input(\"Enter a higher range upto which you want numbers divisible by 7:\"))\n",
    "ob=divisiblity(n)\n",
    "\n",
    "for i in ob.checkDivisiblity():\n",
    "    print(i)"
   ]
  },
  {
   "cell_type": "code",
   "execution_count": 29,
   "id": "80740dd3",
   "metadata": {},
   "outputs": [],
   "source": [
    "#2.frequency of words in an input\n",
    "class frequencyClass:\n",
    "    def __init__(self,input_Data):\n",
    "        self.input_Data=input_Data\n",
    "    def __frequency(self):\n",
    "        l=[]\n",
    "        l=self.input_Data.split(\" \")\n",
    "        for i in l:        \n",
    "            print(i +\":\"+ str(l.count(i)))\n",
    "        "
   ]
  },
  {
   "cell_type": "code",
   "execution_count": 30,
   "id": "05737803",
   "metadata": {},
   "outputs": [
    {
     "name": "stdout",
     "output_type": "stream",
     "text": [
      "Enter the input data to compute the frequency:New to Python or choosing between Python 2 and Python 3? Read Python 2 or Python 3.\n",
      "New:1\n",
      "to:1\n",
      "Python:5\n",
      "or:2\n",
      "choosing:1\n",
      "between:1\n",
      "Python:5\n",
      "2:2\n",
      "and:1\n",
      "Python:5\n",
      "3?:1\n",
      "Read:1\n",
      "Python:5\n",
      "2:2\n",
      "or:2\n",
      "Python:5\n",
      "3.:1\n"
     ]
    }
   ],
   "source": [
    "input_Data=input(\"Enter the input data to compute the frequency:\")\n",
    "f=frequencyClass(input_Data)\n",
    "f._frequencyClass__frequency()\n",
    "#New to Python or choosing between Python 2 and Python 3? Read Python 2 or Python 3."
   ]
  },
  {
   "cell_type": "code",
   "execution_count": 55,
   "id": "7d2d07fa",
   "metadata": {},
   "outputs": [],
   "source": [
    "#3. Class person and two child classes Male and Female\n",
    "class Person:\n",
    "    def __init__(self,gender):\n",
    "        self.gender=gender\n",
    "    def getGender(self):\n",
    "        if self.gender == \"Male\":\n",
    "            return \"Male from Person class\"\n",
    "        elif self.gender == \"Female\":\n",
    "            return \"Female from Person class\"\n",
    "        else:\n",
    "            return \"Different gender enter\"\n",
    "class Male(Person):\n",
    "    def getGender(self):\n",
    "        return \"Male\"\n",
    "class Female(Person):\n",
    "    def getGender(self):\n",
    "        return \"female\""
   ]
  },
  {
   "cell_type": "code",
   "execution_count": 63,
   "id": "8d33ea09",
   "metadata": {},
   "outputs": [
    {
     "name": "stdout",
     "output_type": "stream",
     "text": [
      "Male\n",
      "Male\n",
      "female\n",
      "Female from Person class\n"
     ]
    }
   ],
   "source": [
    "m=Male(\"Male\")\n",
    "print(m.getGender())\n",
    "print(m.gender)\n",
    "f=Female(\"Female\")\n",
    "print(f.getGender())\n",
    "p=Person(\"Female\")\n",
    "print(p.getGender())"
   ]
  },
  {
   "cell_type": "code",
   "execution_count": 51,
   "id": "defd6c31",
   "metadata": {},
   "outputs": [],
   "source": [
    "#4.a program to generate all sentences where subject is in [I,You] and verb is in [Play,Love] and the object is in [Hockey,Football].\n",
    "class sentence:\n",
    "    def sentenceFun(self):\n",
    "        l=['I','You']\n",
    "        l1=['Play','Love']\n",
    "        l2=['Hockey','Football']\n",
    "        for i in l:\n",
    "            for j in l1:\n",
    "                for k in l2:\n",
    "                    print(i +\" \"+ j +\" \" + k)\n",
    "            "
   ]
  },
  {
   "cell_type": "code",
   "execution_count": 52,
   "id": "8c0fe61b",
   "metadata": {},
   "outputs": [],
   "source": [
    "c=sentence()"
   ]
  },
  {
   "cell_type": "code",
   "execution_count": 53,
   "id": "fcb56796",
   "metadata": {},
   "outputs": [
    {
     "name": "stdout",
     "output_type": "stream",
     "text": [
      "I Play Hockey\n",
      "I Play Football\n",
      "I Love Hockey\n",
      "I Love Football\n",
      "You Play Hockey\n",
      "You Play Football\n",
      "You Love Hockey\n",
      "You Love Football\n",
      "None\n"
     ]
    }
   ],
   "source": [
    "print(c.sentenceFun())"
   ]
  },
  {
   "cell_type": "code",
   "execution_count": 63,
   "id": "fe4bc9ac",
   "metadata": {},
   "outputs": [],
   "source": [
    "#5. Compress/Decompress\n",
    "import gzip\n",
    "s=b\"hello world!hello world!hello world!hello world!\" #binary string\n",
    "def de_compress():\n",
    "    x=gzip.compress(s) \n",
    "    print(\"compressed:\",x)\n",
    "    y=gzip.decompress(x)\n",
    "    print(\"decompressed:\",y)"
   ]
  },
  {
   "cell_type": "code",
   "execution_count": 64,
   "id": "ff95d376",
   "metadata": {},
   "outputs": [
    {
     "name": "stdout",
     "output_type": "stream",
     "text": [
      "compressed: b'\\x1f\\x8b\\x08\\x00\\xbe;\\xdba\\x02\\xff\\xcbH\\xcd\\xc9\\xc9W(\\xcf/\\xcaIQ\\xcc \\x82\\r\\x00\\xd3\\xe6\\xcf\\xae0\\x00\\x00\\x00'\n",
      "decompressed: b'hello world!hello world!hello world!hello world!'\n"
     ]
    }
   ],
   "source": [
    "de_compress()"
   ]
  },
  {
   "cell_type": "code",
   "execution_count": 51,
   "id": "ae89a9a8",
   "metadata": {},
   "outputs": [
    {
     "name": "stdout",
     "output_type": "stream",
     "text": [
      "try statement executed\n"
     ]
    }
   ],
   "source": [
    "#6. Binary search\n",
    "class searchList():\n",
    "    try:\n",
    "        def __init__(self,input_list):\n",
    "            self.l=input_list\n",
    "        def searchFunc(self,searchNum):\n",
    "            if searchNum in self.l:\n",
    "                if self.l.count(searchNum) > 1:\n",
    "                    index=[]\n",
    "                    for i in range(len(self.l)):\n",
    "                        if self.l[i] ==searchNum:\n",
    "                            index.append(i)\n",
    "                    print(f\"Item {searchNum} is found at index {index}\")\n",
    "                else:\n",
    "                    return str(searchNum)+ \" is found at index \" + str(self.l.index(searchNum))\n",
    "            else:\n",
    "                return \"Data not in list\"\n",
    "    except Exception as e:\n",
    "        print(e)\n",
    "    else:\n",
    "        print(\"try statement executed\")"
   ]
  },
  {
   "cell_type": "code",
   "execution_count": 52,
   "id": "a9bebad2",
   "metadata": {},
   "outputs": [],
   "source": [
    "#input\n",
    "l=searchList([4,5,6,9,9,\"ayu\",\"sweet\",89.78,9,False])"
   ]
  },
  {
   "cell_type": "code",
   "execution_count": 53,
   "id": "3faf79fc",
   "metadata": {},
   "outputs": [
    {
     "name": "stdout",
     "output_type": "stream",
     "text": [
      "Item 9 is found at index [3, 4, 8]\n"
     ]
    }
   ],
   "source": [
    "l.searchFunc(9)"
   ]
  },
  {
   "cell_type": "code",
   "execution_count": 54,
   "id": "de94a6d7",
   "metadata": {},
   "outputs": [
    {
     "data": {
      "text/plain": [
       "'5 is found at index 1'"
      ]
     },
     "execution_count": 54,
     "metadata": {},
     "output_type": "execute_result"
    }
   ],
   "source": [
    "l.searchFunc(5)"
   ]
  },
  {
   "cell_type": "code",
   "execution_count": null,
   "id": "7ee9af53",
   "metadata": {},
   "outputs": [],
   "source": []
  }
 ],
 "metadata": {
  "kernelspec": {
   "display_name": "Python 3 (ipykernel)",
   "language": "python",
   "name": "python3"
  },
  "language_info": {
   "codemirror_mode": {
    "name": "ipython",
    "version": 3
   },
   "file_extension": ".py",
   "mimetype": "text/x-python",
   "name": "python",
   "nbconvert_exporter": "python",
   "pygments_lexer": "ipython3",
   "version": "3.9.7"
  }
 },
 "nbformat": 4,
 "nbformat_minor": 5
}
