{
 "cells": [
  {
   "cell_type": "code",
   "execution_count": 1,
   "id": "9b21125d",
   "metadata": {},
   "outputs": [
    {
     "name": "stdout",
     "output_type": "stream",
     "text": [
      "Enter a distance in kilometer500\n",
      "Distance in miles is:  310.0\n"
     ]
    }
   ],
   "source": [
    "#1. km to miles . 1 km = 0.62 miles\n",
    "DistanceKm = float(input(\"Enter a distance in kilometer: \"))\n",
    "DistanceMiles= 0.62*DistanceKm\n",
    "print(\"Distance in miles is: \",DistanceMiles)"
   ]
  },
  {
   "cell_type": "code",
   "execution_count": 2,
   "id": "e2311953",
   "metadata": {},
   "outputs": [
    {
     "name": "stdout",
     "output_type": "stream",
     "text": [
      "Enter a temperature in degree celsius :25\n",
      "Temperature in Faherneiht is  77.0\n"
     ]
    }
   ],
   "source": [
    "#2 °F = (°C × 9/5) + 32\n",
    "TempCel= float(input(\"Enter a temperature in degree celsius :\"))\n",
    "TempFaher= TempCel* 9/5  + 32\n",
    "print(\"Temperature in Faherneiht is \",TempFaher )"
   ]
  },
  {
   "cell_type": "code",
   "execution_count": 5,
   "id": "bfdeb438",
   "metadata": {},
   "outputs": [
    {
     "name": "stdout",
     "output_type": "stream",
     "text": [
      "Enter year:2021\n",
      "Enter month:12\n",
      "   December 2021\n",
      "Mo Tu We Th Fr Sa Su\n",
      "       1  2  3  4  5\n",
      " 6  7  8  9 10 11 12\n",
      "13 14 15 16 17 18 19\n",
      "20 21 22 23 24 25 26\n",
      "27 28 29 30 31\n",
      "\n"
     ]
    }
   ],
   "source": [
    "#Calender\n",
    "import calendar\n",
    "year= int(input(\"Enter year:\"))\n",
    "month= int(input(\"Enter month:\"))\n",
    "print(calendar.month(year,month))"
   ]
  },
  {
   "cell_type": "code",
   "execution_count": 11,
   "id": "7c9a7db2",
   "metadata": {},
   "outputs": [
    {
     "name": "stdout",
     "output_type": "stream",
     "text": [
      "3.0 3.0\n"
     ]
    }
   ],
   "source": [
    "#Qudratic equation x^2 - 6x + 9\n",
    "import math\n",
    "x1= (-(-6) + math.sqrt(6*6 - 4*1*9))/2*1\n",
    "x2= (-(-6) - math.sqrt(6*6 - 4*1*9))/2*1\n",
    "print(x1,x2)"
   ]
  },
  {
   "cell_type": "code",
   "execution_count": 13,
   "id": "e283b054",
   "metadata": {},
   "outputs": [
    {
     "name": "stdout",
     "output_type": "stream",
     "text": [
      "Enter value of a3\n",
      "Enter value of b56\n",
      "Enter value of c4\n",
      "Roots are : 167.3546639366988   0.6453360633011762\n"
     ]
    }
   ],
   "source": [
    "#Input function for above code\n",
    "a=int(input(\"Enter value of a\"))\n",
    "b=int(input(\"Enter value of b\"))\n",
    "c=int(input(\"Enter value of c\"))\n",
    "import math\n",
    "x1= (-(-b) + math.sqrt(b*b - 4*a*c))/2*a\n",
    "x2= (-(-b) - math.sqrt(b*b - 4*a*c))/2*a\n",
    "\n",
    "print(\"Roots are :\", x1,\" \", x2)"
   ]
  },
  {
   "cell_type": "code",
   "execution_count": 14,
   "id": "cbe5eb72",
   "metadata": {},
   "outputs": [
    {
     "name": "stdout",
     "output_type": "stream",
     "text": [
      "Enter value of a : 3\n",
      "Enter value of b :4\n",
      "a: 4 b: 3\n"
     ]
    }
   ],
   "source": [
    "#swap\n",
    "a=int(input(\"Enter value of a : \"))\n",
    "b=int(input(\"Enter value of b :\"))\n",
    "a=a+b\n",
    "b=a-b\n",
    "a=a-b\n",
    "print(\"a:\",a, \"b:\",b)"
   ]
  },
  {
   "cell_type": "code",
   "execution_count": null,
   "id": "d0b5d430",
   "metadata": {},
   "outputs": [],
   "source": []
  }
 ],
 "metadata": {
  "kernelspec": {
   "display_name": "Python 3 (ipykernel)",
   "language": "python",
   "name": "python3"
  },
  "language_info": {
   "codemirror_mode": {
    "name": "ipython",
    "version": 3
   },
   "file_extension": ".py",
   "mimetype": "text/x-python",
   "name": "python",
   "nbconvert_exporter": "python",
   "pygments_lexer": "ipython3",
   "version": "3.9.7"
  }
 },
 "nbformat": 4,
 "nbformat_minor": 5
}
