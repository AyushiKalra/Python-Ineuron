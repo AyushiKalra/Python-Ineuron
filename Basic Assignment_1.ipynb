{
 "cells": [
  {
   "cell_type": "code",
   "execution_count": null,
   "id": "ee4cfb45",
   "metadata": {},
   "outputs": [],
   "source": [
    "\"\"\"In the below elements which of them are values or an expression? eg:- values can be integer or string and expressions will be mathematical operators.\n",
    "* :- expression (multiply)\n",
    "'hello' :- value (string)\n",
    "-87.8 :- value(float)\n",
    "-  :- expression (Subtraction)\n",
    "/  :- expression (division)\n",
    "+\t:- expression (Addition)\n",
    "6 :- value (integer)\n",
    "\"\"\""
   ]
  },
  {
   "cell_type": "code",
   "execution_count": 1,
   "id": "595c6761",
   "metadata": {},
   "outputs": [
    {
     "name": "stdout",
     "output_type": "stream",
     "text": [
      "Type of a is <class 'int'>\n",
      "Type of b is <class 'str'>\n"
     ]
    }
   ],
   "source": [
    "\"\"\"What is the difference between string and variable?:- variable can store any type of datatypes temporarily. \n",
    "string is a datatype which stores character values only. \"\"\"\n",
    "a=2 #a is a variable storing integer value\n",
    "print(\"Type of a is\", type(a))\n",
    "b=\"Today is a good day\" #b is a variable containing a string value\n",
    "print(\"Type of b is\", type(b))"
   ]
  },
  {
   "cell_type": "code",
   "execution_count": null,
   "id": "3ae126e8",
   "metadata": {},
   "outputs": [],
   "source": [
    "\"\"\"Describe three different data types.:- a)Numeric involves integer values b) Boolean involves True/ False \n",
    "c)floating values includes decimals \"\"\""
   ]
  },
  {
   "cell_type": "code",
   "execution_count": 5,
   "id": "97dda963",
   "metadata": {},
   "outputs": [
    {
     "data": {
      "text/plain": [
       "2"
      ]
     },
     "execution_count": 5,
     "metadata": {},
     "output_type": "execute_result"
    }
   ],
   "source": [
    "#What is an expression made up of? What do all expressions do?\n",
    "\"\"\"Expressions are representation of value. It can only contain indentifiers (variables name), \n",
    "literals (python programming language term) and operators ( +, -, *,/,>,%)\"\"\"\n",
    "2%3"
   ]
  },
  {
   "cell_type": "code",
   "execution_count": 6,
   "id": "4d414eff",
   "metadata": {},
   "outputs": [
    {
     "name": "stdout",
     "output_type": "stream",
     "text": [
      "2\n"
     ]
    }
   ],
   "source": [
    "#This assignment statements, like spam = 10. What is the difference between an expression and a statement?\n",
    "\"\"\"Expression represents a value whereas statements executes something.\n",
    "Every expression cannot be a statement. Every statement is an expression\"\"\"\n",
    "a=2%3\n",
    "print (a)"
   ]
  },
  {
   "cell_type": "code",
   "execution_count": 7,
   "id": "e5974173",
   "metadata": {},
   "outputs": [
    {
     "data": {
      "text/plain": [
       "23"
      ]
     },
     "execution_count": 7,
     "metadata": {},
     "output_type": "execute_result"
    }
   ],
   "source": [
    "#After running the following code, what does the variable bacon contain?\n",
    "bacon = 22\n",
    "bacon + 1\n",
    "#Ans. 23"
   ]
  },
  {
   "cell_type": "code",
   "execution_count": 9,
   "id": "0e7f528a",
   "metadata": {},
   "outputs": [
    {
     "name": "stdout",
     "output_type": "stream",
     "text": [
      "spamspamspam\n",
      "spamspamspam\n"
     ]
    }
   ],
   "source": [
    "#What should the values of the following two terms be? Ans. same for both 'spamspamspam'\n",
    "print('spam' + 'spamspam')\n",
    "print('spam' * 3)\n"
   ]
  },
  {
   "cell_type": "code",
   "execution_count": null,
   "id": "d05dfe1c",
   "metadata": {},
   "outputs": [],
   "source": [
    "#Why is eggs a valid variable name while 100 is invalid?\n",
    "\"\"\"There are certain rules such as a variable name should start with either a letter or underscore. It cannot start with\n",
    "a number. We can have a100 but not 100 as variable name.\"\"\""
   ]
  },
  {
   "cell_type": "code",
   "execution_count": 12,
   "id": "89a07823",
   "metadata": {},
   "outputs": [
    {
     "data": {
      "text/plain": [
       "(0.4499999999999993, 12.0)"
      ]
     },
     "execution_count": 12,
     "metadata": {},
     "output_type": "execute_result"
    }
   ],
   "source": [
    "#What three functions can be used to get the integer, floating-point number, or string version of a value?\n",
    "import math\n",
    "a=12.45\n",
    "math.modf(a)\n",
    "#The int() , float() , and str( ) functions will evaluate to the integer, floating-point number, and string versions of the value passed to them."
   ]
  },
  {
   "cell_type": "code",
   "execution_count": 14,
   "id": "6be19d8f",
   "metadata": {},
   "outputs": [
    {
     "data": {
      "text/plain": [
       "'I have eaten 99 burritos.'"
      ]
     },
     "execution_count": 14,
     "metadata": {},
     "output_type": "execute_result"
    }
   ],
   "source": [
    "# Why does this expression cause an error? How can you fix it? Ans. can only concatenate str (not \"int\") to str.\n",
    "#We can typecast the integer to string\n",
    "'I have eaten ' + str(99) + ' burritos.'\n"
   ]
  },
  {
   "cell_type": "code",
   "execution_count": null,
   "id": "5c4ba43f",
   "metadata": {},
   "outputs": [],
   "source": []
  }
 ],
 "metadata": {
  "kernelspec": {
   "display_name": "Python 3 (ipykernel)",
   "language": "python",
   "name": "python3"
  },
  "language_info": {
   "codemirror_mode": {
    "name": "ipython",
    "version": 3
   },
   "file_extension": ".py",
   "mimetype": "text/x-python",
   "name": "python",
   "nbconvert_exporter": "python",
   "pygments_lexer": "ipython3",
   "version": "3.9.7"
  }
 },
 "nbformat": 4,
 "nbformat_minor": 5
}
