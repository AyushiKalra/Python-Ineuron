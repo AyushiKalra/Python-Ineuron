{
 "cells": [
  {
   "cell_type": "code",
   "execution_count": 25,
   "id": "cfe0b9de",
   "metadata": {},
   "outputs": [
    {
     "name": "stdout",
     "output_type": "stream",
     "text": [
      "Enter comma separated string: ayushi,kalra,zebra,xerox,wildfire,ocean,life,heaven,bear,wolf,camel,otter,tree,turtle,autism\n",
      "String after sorting : ,autism,ayushi,bear,camel,heaven,kalra,life,ocean,otter,tree,turtle,wildfire,wolf,xerox,zebra\n"
     ]
    }
   ],
   "source": [
    "#3. input comma separated and sort\n",
    "s=input(\"Enter comma separated string: \")\n",
    "l=s.split(',')\n",
    "l.sort()\n",
    "s1=\"\"\n",
    "for i in l:\n",
    "    s1=s1 + \",\" + i   \n",
    "print(\"String after sorting :\",s1)\n",
    "\n",
    "#s=ayushi,kalra,zebra,xerox,wildfire,ocean,life,heaven,bear,wolf,camel,otter,tree,turtle,autism"
   ]
  },
  {
   "cell_type": "code",
   "execution_count": 13,
   "id": "593b0303",
   "metadata": {},
   "outputs": [
    {
     "name": "stdout",
     "output_type": "stream",
     "text": [
      "Enter input for X (column) :3\n",
      "Enter input for Y (Row) :5\n",
      "[[0, 0, 0, 0, 0], [0, 1, 2, 3, 4], [0, 2, 4, 6, 8]]\n"
     ]
    }
   ],
   "source": [
    "#2. 2-D array\n",
    "X=int(input(\"Enter input for X (column) :\"))\n",
    "Y=int(input(\"Enter input for Y (Row) :\"))\n",
    "l=[]\n",
    "for i in range(0,X):\n",
    "    col=[]\n",
    "    for j in range(0,Y):\n",
    "        col.append(i*j)\n",
    "    l.append(col)\n",
    "print(l)"
   ]
  },
  {
   "cell_type": "code",
   "execution_count": 15,
   "id": "38971e4f",
   "metadata": {},
   "outputs": [
    {
     "name": "stdout",
     "output_type": "stream",
     "text": [
      "Enter comma separated integer values of D:100,150,180\n",
      "Output value of Q is: ,18,22,24\n"
     ]
    }
   ],
   "source": [
    "#1. Calculate and print value according to formula\n",
    "import math\n",
    "C,H=50,30\n",
    "l=list(map(int,input(\"Enter comma separated integer values of D:\").split(\",\")))\n",
    "Q=\"\"\n",
    "for i in l:\n",
    "    Q=Q + \",\" + str(math.trunc(math.sqrt((2*C*i)/H)))#math.trunc function removes the fractional part\n",
    "print(\"Output value of Q is:\",Q)"
   ]
  },
  {
   "cell_type": "code",
   "execution_count": 18,
   "id": "eee05449",
   "metadata": {},
   "outputs": [
    {
     "name": "stdout",
     "output_type": "stream",
     "text": [
      "Enter space separated words as input :ayushi kalra is only ayushi because the reason is because it is the only truth\n",
      "String after removing duplicates and sorting:   ayushi because is it kalra only reason the truth\n"
     ]
    }
   ],
   "source": [
    "#4 remove duplicate and sort\n",
    "my_Str=input(\"Enter space separated words as input :\")\n",
    "l=my_Str.split()\n",
    "s=set(l) #removes duplicate values\n",
    "l=list(s)\n",
    "l.sort()\n",
    "string=\"\"\n",
    "for i in l:\n",
    "    string=string + \" \" + i\n",
    "print(\"String after removing duplicates and sorting: \",string)"
   ]
  },
  {
   "cell_type": "code",
   "execution_count": 21,
   "id": "291924b9",
   "metadata": {},
   "outputs": [
    {
     "name": "stdout",
     "output_type": "stream",
     "text": [
      "Enter a string as input :ayushi kalra 69 @\n",
      "Count of characters: 11  and digits : 2 \n"
     ]
    }
   ],
   "source": [
    "#5. calculate leter and digit in a string\n",
    "s=input(\"Enter a string as input :\")\n",
    "count_char=0\n",
    "count_digit=0\n",
    "for c in s:\n",
    "    if 65<= ord(c) <=90 : #upper case\n",
    "        count_char+=1\n",
    "    elif 97<=ord(c)<=122: #lower case\n",
    "        count_char+=1\n",
    "    elif ord(c) == 32: #space\n",
    "        pass\n",
    "    elif 48<=ord(c)<=57: #digits\n",
    "        count_digit+=1\n",
    "    else:\n",
    "        pass\n",
    "print(\"Count of characters: {}  and digits : {} \".format(count_char,count_digit))"
   ]
  },
  {
   "cell_type": "code",
   "execution_count": 14,
   "id": "4d431028",
   "metadata": {},
   "outputs": [
    {
     "name": "stdout",
     "output_type": "stream",
     "text": [
      "Enter username for your account:ayushi\n",
      "Enter comma separated password(s) you wish to set for your account:ABd1234@1,a F1#,2w3E*,2We3345\n",
      "Password ABd1234@1\n"
     ]
    }
   ],
   "source": [
    "#6. Username and password for a website\n",
    "userName=input(\"Enter username for your account:\")\n",
    "passWord=input(\"Enter comma separated password(s) you wish to set for your account:\")\n",
    "\n",
    "if (userName != 0 and passWord != 0):\n",
    "    l=passWord.split(',')\n",
    "    #Check password logic\n",
    "    for i in l:\n",
    "        if 6<=len(i)<=12:\n",
    "            for j in i:\n",
    "                if j.isupper:\n",
    "                    if j.islower:\n",
    "                        if j.isdigit:\n",
    "                            if ord(j) in [64,36,35]:\n",
    "                                print(\"Password: \",i)\n",
    "                    \n",
    "        \n",
    "        \n",
    "#ABd1234@1,a F1#,2w3E*,2We3345"
   ]
  }
 ],
 "metadata": {
  "kernelspec": {
   "display_name": "Python 3 (ipykernel)",
   "language": "python",
   "name": "python3"
  },
  "language_info": {
   "codemirror_mode": {
    "name": "ipython",
    "version": 3
   },
   "file_extension": ".py",
   "mimetype": "text/x-python",
   "name": "python",
   "nbconvert_exporter": "python",
   "pygments_lexer": "ipython3",
   "version": "3.9.7"
  }
 },
 "nbformat": 4,
 "nbformat_minor": 5
}
